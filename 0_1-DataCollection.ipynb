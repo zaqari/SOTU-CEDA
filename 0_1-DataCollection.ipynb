{
 "cells": [
  {
   "metadata": {},
   "cell_type": "markdown",
   "source": "# Data Collection from Web Sources: Proquest LA Times and UCSB Presidency Project SOTU Speeches",
   "id": "3ce85f49cbc1388"
  },
  {
   "metadata": {},
   "cell_type": "code",
   "outputs": [],
   "execution_count": null,
   "source": [
    "from UCLA_Library_web_nav.driver import session\n",
    "from selenium.webdriver.common.by import By\n",
    "import os"
   ],
   "id": "ede26066ddd56216"
  },
  {
   "metadata": {},
   "cell_type": "code",
   "outputs": [],
   "execution_count": null,
   "source": [
    "NEWSPAPERS_DATA_PATH = 'data/newspapers.json'\n",
    "SOTU_DATA_PATH = 'data/sotu.json'"
   ],
   "id": "ab8670b2a2ee36ed"
  },
  {
   "metadata": {},
   "cell_type": "code",
   "outputs": [],
   "execution_count": null,
   "source": [
    "sess = session(\n",
    "    newspaper='LA Times'  \n",
    ")"
   ],
   "id": "ef6023d4c031c113"
  },
  {
   "metadata": {},
   "cell_type": "markdown",
   "source": [
    "## Proquest/LA Times Data\n",
    "\n",
    "Warning: I was not able to fully automate this process. It necessitated significant time babysitting the algorithm, for better or worse."
   ],
   "id": "da2d6474d672f27a"
  },
  {
   "metadata": {},
   "cell_type": "code",
   "outputs": [],
   "execution_count": null,
   "source": [
    "if os.path.exists(NEWSPAPERS_DATA_PATH):\n",
    "    sess.load_newspapers_checkpoint(NEWSPAPERS_DATA_PATH)"
   ],
   "id": "9843e79e1c043c45"
  },
  {
   "metadata": {},
   "cell_type": "markdown",
   "source": [
    "Intensively, you have to search for each president and set the date range manually. This is a mixed-automation solution at most.\n",
    "\n",
    "After you've set your search, run the following:"
   ],
   "id": "c1ba4508a3a14933"
  },
  {
   "metadata": {},
   "cell_type": "code",
   "outputs": [],
   "execution_count": null,
   "source": "sess.proquest_iter_collect()",
   "id": "bed57e47168da7de"
  },
  {
   "metadata": {},
   "cell_type": "code",
   "outputs": [],
   "execution_count": null,
   "source": "sess.newspapers_checkpoint(NEWSPAPERS_DATA_PATH)",
   "id": "31e45cd0a89be386"
  },
  {
   "metadata": {},
   "cell_type": "markdown",
   "source": "After you've repeated this process for every president and date range, you only need to run the followin.",
   "id": "7ada8ab6a5469430"
  },
  {
   "metadata": {},
   "cell_type": "code",
   "outputs": [],
   "execution_count": null,
   "source": "sess.proquest_get_content()",
   "id": "4ddf43467c9b3bdd"
  },
  {
   "metadata": {},
   "cell_type": "markdown",
   "source": [
    "## UCSB Presidency Project\n",
    "\n",
    "This process was much easier, and was accomplished in a single shot for the required SOTU speeches within the date range we had available."
   ],
   "id": "45088177d36ab7f6"
  },
  {
   "metadata": {},
   "cell_type": "code",
   "outputs": [],
   "execution_count": null,
   "source": "sess.get('https://www.presidency.ucsb.edu/documents/app-categories/spoken-addresses-and-remarks/presidential/state-the-union-addresses?items_per_page=60')",
   "id": "5ebe6916c0c8d4b0"
  },
  {
   "metadata": {},
   "cell_type": "code",
   "outputs": [],
   "execution_count": null,
   "source": "sess.get_SOTU_links()",
   "id": "cd4fd792f6f45556"
  },
  {
   "metadata": {},
   "cell_type": "code",
   "outputs": [],
   "execution_count": null,
   "source": "sess.get_SOTU_content()",
   "id": "13ed2ce5a01580fc"
  },
  {
   "metadata": {},
   "cell_type": "code",
   "outputs": [],
   "execution_count": null,
   "source": "sess.sotu_checkpoint(SOTU_DATA_PATH)",
   "id": "504bb3bf5b4a3136"
  }
 ],
 "metadata": {
  "kernelspec": {
   "display_name": "Python 3",
   "language": "python",
   "name": "python3"
  },
  "language_info": {
   "codemirror_mode": {
    "name": "ipython",
    "version": 2
   },
   "file_extension": ".py",
   "mimetype": "text/x-python",
   "name": "python",
   "nbconvert_exporter": "python",
   "pygments_lexer": "ipython2",
   "version": "2.7.6"
  }
 },
 "nbformat": 4,
 "nbformat_minor": 5
}
