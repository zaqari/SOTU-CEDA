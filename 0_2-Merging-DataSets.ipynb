{
 "cells": [
  {
   "metadata": {},
   "cell_type": "markdown",
   "source": "# Merging SOTU and Newspaper Data",
   "id": "4d251121749909b3"
  },
  {
   "metadata": {
    "ExecuteTime": {
     "end_time": "2024-11-30T22:30:35.804009Z",
     "start_time": "2024-11-30T22:30:35.158646Z"
    }
   },
   "cell_type": "code",
   "source": [
    "import os\n",
    "import pandas as pd"
   ],
   "id": "5e31eafc061f9d9f",
   "outputs": [],
   "execution_count": 1
  },
  {
   "metadata": {},
   "cell_type": "code",
   "source": [
    "newspapers_file = 'data/newspapers.json'\n",
    "sotu_file = 'data/sotu.json'\n",
    "output_file = 'data/merged.json'"
   ],
   "id": "2951a2e3b0ce4bc0",
   "outputs": [],
   "execution_count": 2
  },
  {
   "metadata": {},
   "cell_type": "markdown",
   "source": "## Preperation of News Media Files",
   "id": "7d6c3d941c927011"
  },
  {
   "metadata": {
    "ExecuteTime": {
     "end_time": "2024-11-30T22:30:36.645150Z",
     "start_time": "2024-11-30T22:30:36.501520Z"
    }
   },
   "cell_type": "code",
   "source": [
    "dfn = pd.read_json(newspapers_file)\n",
    "dfn.head()"
   ],
   "id": "3369c0545a5d9df7",
   "outputs": [
    {
     "data": {
      "text/plain": [
       "                                               title  \\\n",
       "0  Magnet for Democrats Speculation Focuses on Go...   \n",
       "1  Pumped Up for Event, Diver Finds Feat a B-r-r-...   \n",
       "2                           D-U-M-B!: [Home Edition]   \n",
       "3  Ex-Black Panther Running for Senate Cleaver Ch...   \n",
       "4  First Daughter's Novel Reminiscent of Real Lif...   \n",
       "\n",
       "                                                link  YEAR PRESIDENT  \\\n",
       "0  https://www.proquest.com/latimes/docview/29225...  1986    Reagan   \n",
       "1  https://www.proquest.com/latimes/docview/29224...  1986    Reagan   \n",
       "2  https://www.proquest.com/latimes/docview/29226...  1986    Reagan   \n",
       "3  https://www.proquest.com/latimes/docview/29224...  1986    Reagan   \n",
       "4  https://www.proquest.com/latimes/docview/29222...  1986    Reagan   \n",
       "\n",
       "  newspaper                                               text  \n",
       "0  LA Times  He is perhaps the best orator in the Democrati...  \n",
       "1  LA Times  -Brad Graske spent the day under the ice on Mc...  \n",
       "2  LA Times  What is it about Reagan Administration secreta...  \n",
       "3  LA Times  The Los Angeles political consultant reached a...  \n",
       "4  LA Times  This book is not, repeat not, the story of Ron...  "
      ],
      "text/html": [
       "<div>\n",
       "<style scoped>\n",
       "    .dataframe tbody tr th:only-of-type {\n",
       "        vertical-align: middle;\n",
       "    }\n",
       "\n",
       "    .dataframe tbody tr th {\n",
       "        vertical-align: top;\n",
       "    }\n",
       "\n",
       "    .dataframe thead th {\n",
       "        text-align: right;\n",
       "    }\n",
       "</style>\n",
       "<table border=\"1\" class=\"dataframe\">\n",
       "  <thead>\n",
       "    <tr style=\"text-align: right;\">\n",
       "      <th></th>\n",
       "      <th>title</th>\n",
       "      <th>link</th>\n",
       "      <th>YEAR</th>\n",
       "      <th>PRESIDENT</th>\n",
       "      <th>newspaper</th>\n",
       "      <th>text</th>\n",
       "    </tr>\n",
       "  </thead>\n",
       "  <tbody>\n",
       "    <tr>\n",
       "      <th>0</th>\n",
       "      <td>Magnet for Democrats Speculation Focuses on Go...</td>\n",
       "      <td>https://www.proquest.com/latimes/docview/29225...</td>\n",
       "      <td>1986</td>\n",
       "      <td>Reagan</td>\n",
       "      <td>LA Times</td>\n",
       "      <td>He is perhaps the best orator in the Democrati...</td>\n",
       "    </tr>\n",
       "    <tr>\n",
       "      <th>1</th>\n",
       "      <td>Pumped Up for Event, Diver Finds Feat a B-r-r-...</td>\n",
       "      <td>https://www.proquest.com/latimes/docview/29224...</td>\n",
       "      <td>1986</td>\n",
       "      <td>Reagan</td>\n",
       "      <td>LA Times</td>\n",
       "      <td>-Brad Graske spent the day under the ice on Mc...</td>\n",
       "    </tr>\n",
       "    <tr>\n",
       "      <th>2</th>\n",
       "      <td>D-U-M-B!: [Home Edition]</td>\n",
       "      <td>https://www.proquest.com/latimes/docview/29226...</td>\n",
       "      <td>1986</td>\n",
       "      <td>Reagan</td>\n",
       "      <td>LA Times</td>\n",
       "      <td>What is it about Reagan Administration secreta...</td>\n",
       "    </tr>\n",
       "    <tr>\n",
       "      <th>3</th>\n",
       "      <td>Ex-Black Panther Running for Senate Cleaver Ch...</td>\n",
       "      <td>https://www.proquest.com/latimes/docview/29224...</td>\n",
       "      <td>1986</td>\n",
       "      <td>Reagan</td>\n",
       "      <td>LA Times</td>\n",
       "      <td>The Los Angeles political consultant reached a...</td>\n",
       "    </tr>\n",
       "    <tr>\n",
       "      <th>4</th>\n",
       "      <td>First Daughter's Novel Reminiscent of Real Lif...</td>\n",
       "      <td>https://www.proquest.com/latimes/docview/29222...</td>\n",
       "      <td>1986</td>\n",
       "      <td>Reagan</td>\n",
       "      <td>LA Times</td>\n",
       "      <td>This book is not, repeat not, the story of Ron...</td>\n",
       "    </tr>\n",
       "  </tbody>\n",
       "</table>\n",
       "</div>"
      ]
     },
     "execution_count": 3,
     "metadata": {},
     "output_type": "execute_result"
    }
   ],
   "execution_count": 3
  },
  {
   "metadata": {},
   "cell_type": "markdown",
   "source": "## Preperation of SOTU Files",
   "id": "d005a6f3fb9e6251"
  },
  {
   "metadata": {
    "ExecuteTime": {
     "end_time": "2024-11-30T22:30:39.019297Z",
     "start_time": "2024-11-30T22:30:39.001588Z"
    }
   },
   "cell_type": "code",
   "source": [
    "dfs = pd.read_json(sotu_file)\n",
    "dfs = dfs.rename(columns={'text': 'SOTU'})\n",
    "dfs.head()"
   ],
   "id": "1adeaeb2ab0e3225",
   "outputs": [
    {
     "data": {
      "text/plain": [
       "                                                link       date  \\\n",
       "0  https://www.presidency.ucsb.edu/documents/addr... 2024-03-07   \n",
       "1  https://www.presidency.ucsb.edu/documents/addr... 2023-02-07   \n",
       "2  https://www.presidency.ucsb.edu/documents/addr... 2022-03-01   \n",
       "3  https://www.presidency.ucsb.edu/documents/addr... 2020-02-04   \n",
       "4  https://www.presidency.ucsb.edu/documents/addr... 2019-02-05   \n",
       "\n",
       "              president                                               SOTU  \n",
       "0  Joseph R. Biden, Jr.  [Before speaking, the President presented his ...  \n",
       "1  Joseph R. Biden, Jr.  The President. Mr. Speaker——\\n[At this point, ...  \n",
       "2  Joseph R. Biden, Jr.  The President. Thank you all very, very much. ...  \n",
       "3  Joseph R. Biden, Jr.  The President. Thank you very much. Thank you....  \n",
       "4  Joseph R. Biden, Jr.  The President. Madam Speaker, Mr. Vice Preside...  "
      ],
      "text/html": [
       "<div>\n",
       "<style scoped>\n",
       "    .dataframe tbody tr th:only-of-type {\n",
       "        vertical-align: middle;\n",
       "    }\n",
       "\n",
       "    .dataframe tbody tr th {\n",
       "        vertical-align: top;\n",
       "    }\n",
       "\n",
       "    .dataframe thead th {\n",
       "        text-align: right;\n",
       "    }\n",
       "</style>\n",
       "<table border=\"1\" class=\"dataframe\">\n",
       "  <thead>\n",
       "    <tr style=\"text-align: right;\">\n",
       "      <th></th>\n",
       "      <th>link</th>\n",
       "      <th>date</th>\n",
       "      <th>president</th>\n",
       "      <th>SOTU</th>\n",
       "    </tr>\n",
       "  </thead>\n",
       "  <tbody>\n",
       "    <tr>\n",
       "      <th>0</th>\n",
       "      <td>https://www.presidency.ucsb.edu/documents/addr...</td>\n",
       "      <td>2024-03-07</td>\n",
       "      <td>Joseph R. Biden, Jr.</td>\n",
       "      <td>[Before speaking, the President presented his ...</td>\n",
       "    </tr>\n",
       "    <tr>\n",
       "      <th>1</th>\n",
       "      <td>https://www.presidency.ucsb.edu/documents/addr...</td>\n",
       "      <td>2023-02-07</td>\n",
       "      <td>Joseph R. Biden, Jr.</td>\n",
       "      <td>The President. Mr. Speaker——\\n[At this point, ...</td>\n",
       "    </tr>\n",
       "    <tr>\n",
       "      <th>2</th>\n",
       "      <td>https://www.presidency.ucsb.edu/documents/addr...</td>\n",
       "      <td>2022-03-01</td>\n",
       "      <td>Joseph R. Biden, Jr.</td>\n",
       "      <td>The President. Thank you all very, very much. ...</td>\n",
       "    </tr>\n",
       "    <tr>\n",
       "      <th>3</th>\n",
       "      <td>https://www.presidency.ucsb.edu/documents/addr...</td>\n",
       "      <td>2020-02-04</td>\n",
       "      <td>Joseph R. Biden, Jr.</td>\n",
       "      <td>The President. Thank you very much. Thank you....</td>\n",
       "    </tr>\n",
       "    <tr>\n",
       "      <th>4</th>\n",
       "      <td>https://www.presidency.ucsb.edu/documents/addr...</td>\n",
       "      <td>2019-02-05</td>\n",
       "      <td>Joseph R. Biden, Jr.</td>\n",
       "      <td>The President. Madam Speaker, Mr. Vice Preside...</td>\n",
       "    </tr>\n",
       "  </tbody>\n",
       "</table>\n",
       "</div>"
      ]
     },
     "execution_count": 4,
     "metadata": {},
     "output_type": "execute_result"
    }
   ],
   "execution_count": 4
  },
  {
   "metadata": {
    "ExecuteTime": {
     "end_time": "2024-11-30T22:30:41.758859Z",
     "start_time": "2024-11-30T22:30:41.750172Z"
    }
   },
   "cell_type": "code",
   "source": "dfs['YEAR'] = dfs['date'].dt.year",
   "id": "c4a3966e4046e61",
   "outputs": [],
   "execution_count": 5
  },
  {
   "metadata": {},
   "cell_type": "markdown",
   "source": "## Merging files",
   "id": "b3ab6fdb5d5e786c"
  },
  {
   "metadata": {
    "ExecuteTime": {
     "end_time": "2024-11-30T22:30:46.534182Z",
     "start_time": "2024-11-30T22:30:46.513055Z"
    }
   },
   "cell_type": "code",
   "source": [
    "df = pd.merge(\n",
    "    left=dfn, left_on='YEAR',\n",
    "    right=dfs[['SOTU', 'president', 'YEAR']], right_on='YEAR',\n",
    "    how='left'\n",
    ")\n",
    "df.shape"
   ],
   "id": "bd835fbf1bc9af14",
   "outputs": [
    {
     "data": {
      "text/plain": [
       "(4993, 8)"
      ]
     },
     "execution_count": 6,
     "metadata": {},
     "output_type": "execute_result"
    }
   ],
   "execution_count": 6
  },
  {
   "metadata": {
    "ExecuteTime": {
     "end_time": "2024-11-30T22:30:59.932812Z",
     "start_time": "2024-11-30T22:30:59.912496Z"
    }
   },
   "cell_type": "code",
   "source": "df.isna().sum()",
   "id": "330c845536e0e3ee",
   "outputs": [
    {
     "data": {
      "text/plain": [
       "title           0\n",
       "link            0\n",
       "YEAR            0\n",
       "PRESIDENT       0\n",
       "newspaper       0\n",
       "text            0\n",
       "SOTU         1038\n",
       "president    1038\n",
       "dtype: int64"
      ]
     },
     "execution_count": 7,
     "metadata": {},
     "output_type": "execute_result"
    }
   ],
   "execution_count": 7
  },
  {
   "metadata": {
    "ExecuteTime": {
     "end_time": "2024-11-30T22:31:25.758051Z",
     "start_time": "2024-11-30T22:31:25.747468Z"
    }
   },
   "cell_type": "code",
   "source": "df['YEAR'].loc[df['SOTU'].isna()].unique()",
   "id": "cb0ca655596ec9f6",
   "outputs": [
    {
     "data": {
      "text/plain": [
       "array([1989, 1993, 2001, 2009, 2017, 2021])"
      ]
     },
     "execution_count": 8,
     "metadata": {},
     "output_type": "execute_result"
    }
   ],
   "execution_count": 8
  },
  {
   "metadata": {
    "ExecuteTime": {
     "end_time": "2024-11-27T17:14:30.351287Z",
     "start_time": "2024-11-27T17:14:30.321276Z"
    }
   },
   "cell_type": "code",
   "source": [
    "df = df.loc[~df['SOTU'].isna()]\n",
    "df.shape"
   ],
   "id": "32d92dc00e80281e",
   "outputs": [
    {
     "data": {
      "text/plain": [
       "(3955, 8)"
      ]
     },
     "execution_count": 28,
     "metadata": {},
     "output_type": "execute_result"
    }
   ],
   "execution_count": 28
  },
  {
   "metadata": {
    "ExecuteTime": {
     "end_time": "2024-11-27T17:14:32.967879Z",
     "start_time": "2024-11-27T17:14:32.956161Z"
    }
   },
   "cell_type": "code",
   "source": "df.head()",
   "id": "23e1ac10734db16d",
   "outputs": [
    {
     "data": {
      "text/plain": [
       "                                               title  \\\n",
       "0  Magnet for Democrats Speculation Focuses on Go...   \n",
       "1  Pumped Up for Event, Diver Finds Feat a B-r-r-...   \n",
       "2                           D-U-M-B!: [Home Edition]   \n",
       "3  Ex-Black Panther Running for Senate Cleaver Ch...   \n",
       "4  First Daughter's Novel Reminiscent of Real Lif...   \n",
       "\n",
       "                                                link  YEAR PRESIDENT  \\\n",
       "0  https://www.proquest.com/latimes/docview/29225...  1986    Reagan   \n",
       "1  https://www.proquest.com/latimes/docview/29224...  1986    Reagan   \n",
       "2  https://www.proquest.com/latimes/docview/29226...  1986    Reagan   \n",
       "3  https://www.proquest.com/latimes/docview/29224...  1986    Reagan   \n",
       "4  https://www.proquest.com/latimes/docview/29222...  1986    Reagan   \n",
       "\n",
       "  newspaper                                               text  \\\n",
       "0  LA Times  He is perhaps the best orator in the Democrati...   \n",
       "1  LA Times  -Brad Graske spent the day under the ice on Mc...   \n",
       "2  LA Times  What is it about Reagan Administration secreta...   \n",
       "3  LA Times  The Los Angeles political consultant reached a...   \n",
       "4  LA Times  This book is not, repeat not, the story of Ron...   \n",
       "\n",
       "                                                SOTU             president  \n",
       "0  Mr. Speaker, Mr. President, distinguished Memb...  Joseph R. Biden, Jr.  \n",
       "1  Mr. Speaker, Mr. President, distinguished Memb...  Joseph R. Biden, Jr.  \n",
       "2  Mr. Speaker, Mr. President, distinguished Memb...  Joseph R. Biden, Jr.  \n",
       "3  Mr. Speaker, Mr. President, distinguished Memb...  Joseph R. Biden, Jr.  \n",
       "4  Mr. Speaker, Mr. President, distinguished Memb...  Joseph R. Biden, Jr.  "
      ],
      "text/html": [
       "<div>\n",
       "<style scoped>\n",
       "    .dataframe tbody tr th:only-of-type {\n",
       "        vertical-align: middle;\n",
       "    }\n",
       "\n",
       "    .dataframe tbody tr th {\n",
       "        vertical-align: top;\n",
       "    }\n",
       "\n",
       "    .dataframe thead th {\n",
       "        text-align: right;\n",
       "    }\n",
       "</style>\n",
       "<table border=\"1\" class=\"dataframe\">\n",
       "  <thead>\n",
       "    <tr style=\"text-align: right;\">\n",
       "      <th></th>\n",
       "      <th>title</th>\n",
       "      <th>link</th>\n",
       "      <th>YEAR</th>\n",
       "      <th>PRESIDENT</th>\n",
       "      <th>newspaper</th>\n",
       "      <th>text</th>\n",
       "      <th>SOTU</th>\n",
       "      <th>president</th>\n",
       "    </tr>\n",
       "  </thead>\n",
       "  <tbody>\n",
       "    <tr>\n",
       "      <th>0</th>\n",
       "      <td>Magnet for Democrats Speculation Focuses on Go...</td>\n",
       "      <td>https://www.proquest.com/latimes/docview/29225...</td>\n",
       "      <td>1986</td>\n",
       "      <td>Reagan</td>\n",
       "      <td>LA Times</td>\n",
       "      <td>He is perhaps the best orator in the Democrati...</td>\n",
       "      <td>Mr. Speaker, Mr. President, distinguished Memb...</td>\n",
       "      <td>Joseph R. Biden, Jr.</td>\n",
       "    </tr>\n",
       "    <tr>\n",
       "      <th>1</th>\n",
       "      <td>Pumped Up for Event, Diver Finds Feat a B-r-r-...</td>\n",
       "      <td>https://www.proquest.com/latimes/docview/29224...</td>\n",
       "      <td>1986</td>\n",
       "      <td>Reagan</td>\n",
       "      <td>LA Times</td>\n",
       "      <td>-Brad Graske spent the day under the ice on Mc...</td>\n",
       "      <td>Mr. Speaker, Mr. President, distinguished Memb...</td>\n",
       "      <td>Joseph R. Biden, Jr.</td>\n",
       "    </tr>\n",
       "    <tr>\n",
       "      <th>2</th>\n",
       "      <td>D-U-M-B!: [Home Edition]</td>\n",
       "      <td>https://www.proquest.com/latimes/docview/29226...</td>\n",
       "      <td>1986</td>\n",
       "      <td>Reagan</td>\n",
       "      <td>LA Times</td>\n",
       "      <td>What is it about Reagan Administration secreta...</td>\n",
       "      <td>Mr. Speaker, Mr. President, distinguished Memb...</td>\n",
       "      <td>Joseph R. Biden, Jr.</td>\n",
       "    </tr>\n",
       "    <tr>\n",
       "      <th>3</th>\n",
       "      <td>Ex-Black Panther Running for Senate Cleaver Ch...</td>\n",
       "      <td>https://www.proquest.com/latimes/docview/29224...</td>\n",
       "      <td>1986</td>\n",
       "      <td>Reagan</td>\n",
       "      <td>LA Times</td>\n",
       "      <td>The Los Angeles political consultant reached a...</td>\n",
       "      <td>Mr. Speaker, Mr. President, distinguished Memb...</td>\n",
       "      <td>Joseph R. Biden, Jr.</td>\n",
       "    </tr>\n",
       "    <tr>\n",
       "      <th>4</th>\n",
       "      <td>First Daughter's Novel Reminiscent of Real Lif...</td>\n",
       "      <td>https://www.proquest.com/latimes/docview/29222...</td>\n",
       "      <td>1986</td>\n",
       "      <td>Reagan</td>\n",
       "      <td>LA Times</td>\n",
       "      <td>This book is not, repeat not, the story of Ron...</td>\n",
       "      <td>Mr. Speaker, Mr. President, distinguished Memb...</td>\n",
       "      <td>Joseph R. Biden, Jr.</td>\n",
       "    </tr>\n",
       "  </tbody>\n",
       "</table>\n",
       "</div>"
      ]
     },
     "execution_count": 29,
     "metadata": {},
     "output_type": "execute_result"
    }
   ],
   "execution_count": 29
  },
  {
   "metadata": {
    "ExecuteTime": {
     "end_time": "2024-11-27T17:14:54.850074Z",
     "start_time": "2024-11-27T17:14:54.516049Z"
    }
   },
   "cell_type": "code",
   "source": "df.to_json(output_file, orient='records')",
   "id": "4dac2f56d744f2f9",
   "outputs": [],
   "execution_count": 30
  },
  {
   "metadata": {},
   "cell_type": "markdown",
   "source": "",
   "id": "72cc97284ba048b8"
  }
 ],
 "metadata": {
  "kernelspec": {
   "display_name": "Python 3",
   "language": "python",
   "name": "python3"
  },
  "language_info": {
   "codemirror_mode": {
    "name": "ipython",
    "version": 2
   },
   "file_extension": ".py",
   "mimetype": "text/x-python",
   "name": "python",
   "nbconvert_exporter": "python",
   "pygments_lexer": "ipython2",
   "version": "2.7.6"
  }
 },
 "nbformat": 4,
 "nbformat_minor": 5
}
