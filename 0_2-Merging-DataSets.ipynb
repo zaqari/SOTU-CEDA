{
 "cells": [
  {
   "metadata": {},
   "cell_type": "markdown",
   "source": "# Merging SOTU and Newspaper Data",
   "id": "4d251121749909b3"
  },
  {
   "metadata": {
    "ExecuteTime": {
     "end_time": "2024-12-04T04:21:36.410357Z",
     "start_time": "2024-12-04T04:21:36.397693Z"
    }
   },
   "cell_type": "code",
   "source": [
    "import os\n",
    "\n",
    "import numpy as np\n",
    "import pandas as pd"
   ],
   "id": "5e31eafc061f9d9f",
   "outputs": [],
   "execution_count": 21
  },
  {
   "metadata": {
    "ExecuteTime": {
     "end_time": "2024-12-04T04:21:36.593760Z",
     "start_time": "2024-12-04T04:21:36.591453Z"
    }
   },
   "cell_type": "code",
   "source": [
    "newspapers_file = 'data/raw/newspapers.json'\n",
    "sotu_file = 'data/raw/sotu.json'\n",
    "output_file = 'data/raw/merged.json'"
   ],
   "id": "2951a2e3b0ce4bc0",
   "outputs": [],
   "execution_count": 22
  },
  {
   "metadata": {},
   "cell_type": "markdown",
   "source": "## Preperation of News Media Files",
   "id": "7d6c3d941c927011"
  },
  {
   "metadata": {
    "ExecuteTime": {
     "end_time": "2024-12-04T04:21:37.048083Z",
     "start_time": "2024-12-04T04:21:36.936780Z"
    }
   },
   "cell_type": "code",
   "source": [
    "dfn = pd.read_json(newspapers_file)\n",
    "dfn.head()"
   ],
   "id": "3369c0545a5d9df7",
   "outputs": [
    {
     "data": {
      "text/plain": [
       "                                               title  \\\n",
       "0  Magnet for Democrats Speculation Focuses on Go...   \n",
       "1  Pumped Up for Event, Diver Finds Feat a B-r-r-...   \n",
       "2                           D-U-M-B!: [Home Edition]   \n",
       "3  Ex-Black Panther Running for Senate Cleaver Ch...   \n",
       "4  First Daughter's Novel Reminiscent of Real Lif...   \n",
       "\n",
       "                                                link  YEAR PRESIDENT  \\\n",
       "0  https://www.proquest.com/latimes/docview/29225...  1986    Reagan   \n",
       "1  https://www.proquest.com/latimes/docview/29224...  1986    Reagan   \n",
       "2  https://www.proquest.com/latimes/docview/29226...  1986    Reagan   \n",
       "3  https://www.proquest.com/latimes/docview/29224...  1986    Reagan   \n",
       "4  https://www.proquest.com/latimes/docview/29222...  1986    Reagan   \n",
       "\n",
       "  newspaper                                               text  \n",
       "0  LA Times  He is perhaps the best orator in the Democrati...  \n",
       "1  LA Times  -Brad Graske spent the day under the ice on Mc...  \n",
       "2  LA Times  What is it about Reagan Administration secreta...  \n",
       "3  LA Times  The Los Angeles political consultant reached a...  \n",
       "4  LA Times  This book is not, repeat not, the story of Ron...  "
      ],
      "text/html": [
       "<div>\n",
       "<style scoped>\n",
       "    .dataframe tbody tr th:only-of-type {\n",
       "        vertical-align: middle;\n",
       "    }\n",
       "\n",
       "    .dataframe tbody tr th {\n",
       "        vertical-align: top;\n",
       "    }\n",
       "\n",
       "    .dataframe thead th {\n",
       "        text-align: right;\n",
       "    }\n",
       "</style>\n",
       "<table border=\"1\" class=\"dataframe\">\n",
       "  <thead>\n",
       "    <tr style=\"text-align: right;\">\n",
       "      <th></th>\n",
       "      <th>title</th>\n",
       "      <th>link</th>\n",
       "      <th>YEAR</th>\n",
       "      <th>PRESIDENT</th>\n",
       "      <th>newspaper</th>\n",
       "      <th>text</th>\n",
       "    </tr>\n",
       "  </thead>\n",
       "  <tbody>\n",
       "    <tr>\n",
       "      <th>0</th>\n",
       "      <td>Magnet for Democrats Speculation Focuses on Go...</td>\n",
       "      <td>https://www.proquest.com/latimes/docview/29225...</td>\n",
       "      <td>1986</td>\n",
       "      <td>Reagan</td>\n",
       "      <td>LA Times</td>\n",
       "      <td>He is perhaps the best orator in the Democrati...</td>\n",
       "    </tr>\n",
       "    <tr>\n",
       "      <th>1</th>\n",
       "      <td>Pumped Up for Event, Diver Finds Feat a B-r-r-...</td>\n",
       "      <td>https://www.proquest.com/latimes/docview/29224...</td>\n",
       "      <td>1986</td>\n",
       "      <td>Reagan</td>\n",
       "      <td>LA Times</td>\n",
       "      <td>-Brad Graske spent the day under the ice on Mc...</td>\n",
       "    </tr>\n",
       "    <tr>\n",
       "      <th>2</th>\n",
       "      <td>D-U-M-B!: [Home Edition]</td>\n",
       "      <td>https://www.proquest.com/latimes/docview/29226...</td>\n",
       "      <td>1986</td>\n",
       "      <td>Reagan</td>\n",
       "      <td>LA Times</td>\n",
       "      <td>What is it about Reagan Administration secreta...</td>\n",
       "    </tr>\n",
       "    <tr>\n",
       "      <th>3</th>\n",
       "      <td>Ex-Black Panther Running for Senate Cleaver Ch...</td>\n",
       "      <td>https://www.proquest.com/latimes/docview/29224...</td>\n",
       "      <td>1986</td>\n",
       "      <td>Reagan</td>\n",
       "      <td>LA Times</td>\n",
       "      <td>The Los Angeles political consultant reached a...</td>\n",
       "    </tr>\n",
       "    <tr>\n",
       "      <th>4</th>\n",
       "      <td>First Daughter's Novel Reminiscent of Real Lif...</td>\n",
       "      <td>https://www.proquest.com/latimes/docview/29222...</td>\n",
       "      <td>1986</td>\n",
       "      <td>Reagan</td>\n",
       "      <td>LA Times</td>\n",
       "      <td>This book is not, repeat not, the story of Ron...</td>\n",
       "    </tr>\n",
       "  </tbody>\n",
       "</table>\n",
       "</div>"
      ]
     },
     "execution_count": 23,
     "metadata": {},
     "output_type": "execute_result"
    }
   ],
   "execution_count": 23
  },
  {
   "metadata": {},
   "cell_type": "markdown",
   "source": "## Preperation of SOTU Files",
   "id": "d005a6f3fb9e6251"
  },
  {
   "metadata": {
    "ExecuteTime": {
     "end_time": "2024-12-04T04:21:37.302680Z",
     "start_time": "2024-12-04T04:21:37.282395Z"
    }
   },
   "cell_type": "code",
   "source": [
    "dfs = pd.read_json(sotu_file)\n",
    "dfs = dfs.rename(columns={'text': 'SOTU'})\n",
    "dfs.head()"
   ],
   "id": "1adeaeb2ab0e3225",
   "outputs": [
    {
     "data": {
      "text/plain": [
       "                                                link       date  \\\n",
       "0  https://www.presidency.ucsb.edu/documents/addr... 2024-03-07   \n",
       "1  https://www.presidency.ucsb.edu/documents/addr... 2023-02-07   \n",
       "2  https://www.presidency.ucsb.edu/documents/addr... 2022-03-01   \n",
       "3  https://www.presidency.ucsb.edu/documents/addr... 2020-02-04   \n",
       "4  https://www.presidency.ucsb.edu/documents/addr... 2019-02-05   \n",
       "\n",
       "              president                                               SOTU  \n",
       "0  Joseph R. Biden, Jr.  [Before speaking, the President presented his ...  \n",
       "1  Joseph R. Biden, Jr.  The President. Mr. Speaker——\\n[At this point, ...  \n",
       "2  Joseph R. Biden, Jr.  The President. Thank you all very, very much. ...  \n",
       "3  Joseph R. Biden, Jr.  The President. Thank you very much. Thank you....  \n",
       "4  Joseph R. Biden, Jr.  The President. Madam Speaker, Mr. Vice Preside...  "
      ],
      "text/html": [
       "<div>\n",
       "<style scoped>\n",
       "    .dataframe tbody tr th:only-of-type {\n",
       "        vertical-align: middle;\n",
       "    }\n",
       "\n",
       "    .dataframe tbody tr th {\n",
       "        vertical-align: top;\n",
       "    }\n",
       "\n",
       "    .dataframe thead th {\n",
       "        text-align: right;\n",
       "    }\n",
       "</style>\n",
       "<table border=\"1\" class=\"dataframe\">\n",
       "  <thead>\n",
       "    <tr style=\"text-align: right;\">\n",
       "      <th></th>\n",
       "      <th>link</th>\n",
       "      <th>date</th>\n",
       "      <th>president</th>\n",
       "      <th>SOTU</th>\n",
       "    </tr>\n",
       "  </thead>\n",
       "  <tbody>\n",
       "    <tr>\n",
       "      <th>0</th>\n",
       "      <td>https://www.presidency.ucsb.edu/documents/addr...</td>\n",
       "      <td>2024-03-07</td>\n",
       "      <td>Joseph R. Biden, Jr.</td>\n",
       "      <td>[Before speaking, the President presented his ...</td>\n",
       "    </tr>\n",
       "    <tr>\n",
       "      <th>1</th>\n",
       "      <td>https://www.presidency.ucsb.edu/documents/addr...</td>\n",
       "      <td>2023-02-07</td>\n",
       "      <td>Joseph R. Biden, Jr.</td>\n",
       "      <td>The President. Mr. Speaker——\\n[At this point, ...</td>\n",
       "    </tr>\n",
       "    <tr>\n",
       "      <th>2</th>\n",
       "      <td>https://www.presidency.ucsb.edu/documents/addr...</td>\n",
       "      <td>2022-03-01</td>\n",
       "      <td>Joseph R. Biden, Jr.</td>\n",
       "      <td>The President. Thank you all very, very much. ...</td>\n",
       "    </tr>\n",
       "    <tr>\n",
       "      <th>3</th>\n",
       "      <td>https://www.presidency.ucsb.edu/documents/addr...</td>\n",
       "      <td>2020-02-04</td>\n",
       "      <td>Joseph R. Biden, Jr.</td>\n",
       "      <td>The President. Thank you very much. Thank you....</td>\n",
       "    </tr>\n",
       "    <tr>\n",
       "      <th>4</th>\n",
       "      <td>https://www.presidency.ucsb.edu/documents/addr...</td>\n",
       "      <td>2019-02-05</td>\n",
       "      <td>Joseph R. Biden, Jr.</td>\n",
       "      <td>The President. Madam Speaker, Mr. Vice Preside...</td>\n",
       "    </tr>\n",
       "  </tbody>\n",
       "</table>\n",
       "</div>"
      ]
     },
     "execution_count": 24,
     "metadata": {},
     "output_type": "execute_result"
    }
   ],
   "execution_count": 24
  },
  {
   "metadata": {
    "ExecuteTime": {
     "end_time": "2024-12-04T04:21:37.461029Z",
     "start_time": "2024-12-04T04:21:37.456815Z"
    }
   },
   "cell_type": "code",
   "source": "dfs['YEAR'] = dfs['date'].dt.year",
   "id": "c4a3966e4046e61",
   "outputs": [],
   "execution_count": 25
  },
  {
   "metadata": {},
   "cell_type": "markdown",
   "source": "## Merging files",
   "id": "b3ab6fdb5d5e786c"
  },
  {
   "metadata": {
    "ExecuteTime": {
     "end_time": "2024-12-04T04:21:37.760795Z",
     "start_time": "2024-12-04T04:21:37.746976Z"
    }
   },
   "cell_type": "code",
   "source": [
    "df = pd.merge(\n",
    "    left=dfn, left_on='YEAR',\n",
    "    right=dfs[['SOTU', 'president', 'YEAR']], right_on='YEAR',\n",
    "    how='left'\n",
    ")\n",
    "df.shape"
   ],
   "id": "bd835fbf1bc9af14",
   "outputs": [
    {
     "data": {
      "text/plain": [
       "(4993, 8)"
      ]
     },
     "execution_count": 26,
     "metadata": {},
     "output_type": "execute_result"
    }
   ],
   "execution_count": 26
  },
  {
   "metadata": {},
   "cell_type": "markdown",
   "source": "Even for our super GPU, this was too big to crunch. So we're going to split every story up into paragraphs to make it more palatable.",
   "id": "d5bb72b257c7da3"
  },
  {
   "metadata": {
    "ExecuteTime": {
     "end_time": "2024-12-04T04:21:40.526032Z",
     "start_time": "2024-12-04T04:21:38.035546Z"
    }
   },
   "cell_type": "code",
   "source": [
    "from tqdm import tqdm\n",
    "text_col = 'SOTU'\n",
    "meta_data = [col for col in list(df) if col != text_col]\n",
    "df_ = []\n",
    "for (i, rid) in tqdm(enumerate(df.loc[~df['SOTU'].isna()].index)):\n",
    "    main_data = df[meta_data].loc[rid].to_dict()\n",
    "    text = df[text_col].loc[rid].split('\\n')\n",
    "    main_data[text_col + '_id'] = i\n",
    "    for t in text:\n",
    "        d = main_data.copy()\n",
    "        d[text_col] = t\n",
    "        df_ += [d]\n",
    "df = pd.DataFrame(df_)\n",
    "df.head()"
   ],
   "id": "c0ae24be665afd26",
   "outputs": [
    {
     "name": "stderr",
     "output_type": "stream",
     "text": [
      "3955it [00:02, 1960.03it/s]\n"
     ]
    },
    {
     "data": {
      "text/plain": [
       "                                               title  \\\n",
       "0  Magnet for Democrats Speculation Focuses on Go...   \n",
       "1  Magnet for Democrats Speculation Focuses on Go...   \n",
       "2  Magnet for Democrats Speculation Focuses on Go...   \n",
       "3  Magnet for Democrats Speculation Focuses on Go...   \n",
       "4  Magnet for Democrats Speculation Focuses on Go...   \n",
       "\n",
       "                                                link  YEAR PRESIDENT  \\\n",
       "0  https://www.proquest.com/latimes/docview/29225...  1986    Reagan   \n",
       "1  https://www.proquest.com/latimes/docview/29225...  1986    Reagan   \n",
       "2  https://www.proquest.com/latimes/docview/29225...  1986    Reagan   \n",
       "3  https://www.proquest.com/latimes/docview/29225...  1986    Reagan   \n",
       "4  https://www.proquest.com/latimes/docview/29225...  1986    Reagan   \n",
       "\n",
       "  newspaper                                               text  \\\n",
       "0  LA Times  He is perhaps the best orator in the Democrati...   \n",
       "1  LA Times  He is perhaps the best orator in the Democrati...   \n",
       "2  LA Times  He is perhaps the best orator in the Democrati...   \n",
       "3  LA Times  He is perhaps the best orator in the Democrati...   \n",
       "4  LA Times  He is perhaps the best orator in the Democrati...   \n",
       "\n",
       "              president  SOTU_id  \\\n",
       "0  Joseph R. Biden, Jr.        0   \n",
       "1  Joseph R. Biden, Jr.        0   \n",
       "2  Joseph R. Biden, Jr.        0   \n",
       "3  Joseph R. Biden, Jr.        0   \n",
       "4  Joseph R. Biden, Jr.        0   \n",
       "\n",
       "                                                SOTU  \n",
       "0  Mr. Speaker, Mr. President, distinguished Memb...  \n",
       "1  Thank you for allowing me to delay my address ...  \n",
       "2  Mr. Speaker, before I begin my prepared remark...  \n",
       "3  I have come to review with you the progress of...  \n",
       "4  Tonight the American people deserve our thanks...  "
      ],
      "text/html": [
       "<div>\n",
       "<style scoped>\n",
       "    .dataframe tbody tr th:only-of-type {\n",
       "        vertical-align: middle;\n",
       "    }\n",
       "\n",
       "    .dataframe tbody tr th {\n",
       "        vertical-align: top;\n",
       "    }\n",
       "\n",
       "    .dataframe thead th {\n",
       "        text-align: right;\n",
       "    }\n",
       "</style>\n",
       "<table border=\"1\" class=\"dataframe\">\n",
       "  <thead>\n",
       "    <tr style=\"text-align: right;\">\n",
       "      <th></th>\n",
       "      <th>title</th>\n",
       "      <th>link</th>\n",
       "      <th>YEAR</th>\n",
       "      <th>PRESIDENT</th>\n",
       "      <th>newspaper</th>\n",
       "      <th>text</th>\n",
       "      <th>president</th>\n",
       "      <th>SOTU_id</th>\n",
       "      <th>SOTU</th>\n",
       "    </tr>\n",
       "  </thead>\n",
       "  <tbody>\n",
       "    <tr>\n",
       "      <th>0</th>\n",
       "      <td>Magnet for Democrats Speculation Focuses on Go...</td>\n",
       "      <td>https://www.proquest.com/latimes/docview/29225...</td>\n",
       "      <td>1986</td>\n",
       "      <td>Reagan</td>\n",
       "      <td>LA Times</td>\n",
       "      <td>He is perhaps the best orator in the Democrati...</td>\n",
       "      <td>Joseph R. Biden, Jr.</td>\n",
       "      <td>0</td>\n",
       "      <td>Mr. Speaker, Mr. President, distinguished Memb...</td>\n",
       "    </tr>\n",
       "    <tr>\n",
       "      <th>1</th>\n",
       "      <td>Magnet for Democrats Speculation Focuses on Go...</td>\n",
       "      <td>https://www.proquest.com/latimes/docview/29225...</td>\n",
       "      <td>1986</td>\n",
       "      <td>Reagan</td>\n",
       "      <td>LA Times</td>\n",
       "      <td>He is perhaps the best orator in the Democrati...</td>\n",
       "      <td>Joseph R. Biden, Jr.</td>\n",
       "      <td>0</td>\n",
       "      <td>Thank you for allowing me to delay my address ...</td>\n",
       "    </tr>\n",
       "    <tr>\n",
       "      <th>2</th>\n",
       "      <td>Magnet for Democrats Speculation Focuses on Go...</td>\n",
       "      <td>https://www.proquest.com/latimes/docview/29225...</td>\n",
       "      <td>1986</td>\n",
       "      <td>Reagan</td>\n",
       "      <td>LA Times</td>\n",
       "      <td>He is perhaps the best orator in the Democrati...</td>\n",
       "      <td>Joseph R. Biden, Jr.</td>\n",
       "      <td>0</td>\n",
       "      <td>Mr. Speaker, before I begin my prepared remark...</td>\n",
       "    </tr>\n",
       "    <tr>\n",
       "      <th>3</th>\n",
       "      <td>Magnet for Democrats Speculation Focuses on Go...</td>\n",
       "      <td>https://www.proquest.com/latimes/docview/29225...</td>\n",
       "      <td>1986</td>\n",
       "      <td>Reagan</td>\n",
       "      <td>LA Times</td>\n",
       "      <td>He is perhaps the best orator in the Democrati...</td>\n",
       "      <td>Joseph R. Biden, Jr.</td>\n",
       "      <td>0</td>\n",
       "      <td>I have come to review with you the progress of...</td>\n",
       "    </tr>\n",
       "    <tr>\n",
       "      <th>4</th>\n",
       "      <td>Magnet for Democrats Speculation Focuses on Go...</td>\n",
       "      <td>https://www.proquest.com/latimes/docview/29225...</td>\n",
       "      <td>1986</td>\n",
       "      <td>Reagan</td>\n",
       "      <td>LA Times</td>\n",
       "      <td>He is perhaps the best orator in the Democrati...</td>\n",
       "      <td>Joseph R. Biden, Jr.</td>\n",
       "      <td>0</td>\n",
       "      <td>Tonight the American people deserve our thanks...</td>\n",
       "    </tr>\n",
       "  </tbody>\n",
       "</table>\n",
       "</div>"
      ]
     },
     "execution_count": 27,
     "metadata": {},
     "output_type": "execute_result"
    }
   ],
   "execution_count": 27
  },
  {
   "metadata": {
    "ExecuteTime": {
     "end_time": "2024-12-04T04:21:40.599005Z",
     "start_time": "2024-12-04T04:21:40.527624Z"
    }
   },
   "cell_type": "code",
   "source": "df.isna().sum()",
   "id": "330c845536e0e3ee",
   "outputs": [
    {
     "data": {
      "text/plain": [
       "title        0\n",
       "link         0\n",
       "YEAR         0\n",
       "PRESIDENT    0\n",
       "newspaper    0\n",
       "text         0\n",
       "president    0\n",
       "SOTU_id      0\n",
       "SOTU         0\n",
       "dtype: int64"
      ]
     },
     "execution_count": 28,
     "metadata": {},
     "output_type": "execute_result"
    }
   ],
   "execution_count": 28
  },
  {
   "metadata": {
    "ExecuteTime": {
     "end_time": "2024-12-04T04:21:40.624355Z",
     "start_time": "2024-12-04T04:21:40.600842Z"
    }
   },
   "cell_type": "code",
   "source": "df['YEAR'].loc[df['SOTU'].isna()].unique()",
   "id": "cb0ca655596ec9f6",
   "outputs": [
    {
     "data": {
      "text/plain": [
       "array([], dtype=int64)"
      ]
     },
     "execution_count": 29,
     "metadata": {},
     "output_type": "execute_result"
    }
   ],
   "execution_count": 29
  },
  {
   "metadata": {
    "ExecuteTime": {
     "end_time": "2024-12-04T04:21:40.677946Z",
     "start_time": "2024-12-04T04:21:40.626300Z"
    }
   },
   "cell_type": "code",
   "source": [
    "df = df.loc[~df['SOTU'].isna()]\n",
    "df.shape"
   ],
   "id": "32d92dc00e80281e",
   "outputs": [
    {
     "data": {
      "text/plain": [
       "(355422, 9)"
      ]
     },
     "execution_count": 30,
     "metadata": {},
     "output_type": "execute_result"
    }
   ],
   "execution_count": 30
  },
  {
   "metadata": {
    "ExecuteTime": {
     "end_time": "2024-12-04T04:21:40.684815Z",
     "start_time": "2024-12-04T04:21:40.678805Z"
    }
   },
   "cell_type": "code",
   "source": "df.head()",
   "id": "23e1ac10734db16d",
   "outputs": [
    {
     "data": {
      "text/plain": [
       "                                               title  \\\n",
       "0  Magnet for Democrats Speculation Focuses on Go...   \n",
       "1  Magnet for Democrats Speculation Focuses on Go...   \n",
       "2  Magnet for Democrats Speculation Focuses on Go...   \n",
       "3  Magnet for Democrats Speculation Focuses on Go...   \n",
       "4  Magnet for Democrats Speculation Focuses on Go...   \n",
       "\n",
       "                                                link  YEAR PRESIDENT  \\\n",
       "0  https://www.proquest.com/latimes/docview/29225...  1986    Reagan   \n",
       "1  https://www.proquest.com/latimes/docview/29225...  1986    Reagan   \n",
       "2  https://www.proquest.com/latimes/docview/29225...  1986    Reagan   \n",
       "3  https://www.proquest.com/latimes/docview/29225...  1986    Reagan   \n",
       "4  https://www.proquest.com/latimes/docview/29225...  1986    Reagan   \n",
       "\n",
       "  newspaper                                               text  \\\n",
       "0  LA Times  He is perhaps the best orator in the Democrati...   \n",
       "1  LA Times  He is perhaps the best orator in the Democrati...   \n",
       "2  LA Times  He is perhaps the best orator in the Democrati...   \n",
       "3  LA Times  He is perhaps the best orator in the Democrati...   \n",
       "4  LA Times  He is perhaps the best orator in the Democrati...   \n",
       "\n",
       "              president  SOTU_id  \\\n",
       "0  Joseph R. Biden, Jr.        0   \n",
       "1  Joseph R. Biden, Jr.        0   \n",
       "2  Joseph R. Biden, Jr.        0   \n",
       "3  Joseph R. Biden, Jr.        0   \n",
       "4  Joseph R. Biden, Jr.        0   \n",
       "\n",
       "                                                SOTU  \n",
       "0  Mr. Speaker, Mr. President, distinguished Memb...  \n",
       "1  Thank you for allowing me to delay my address ...  \n",
       "2  Mr. Speaker, before I begin my prepared remark...  \n",
       "3  I have come to review with you the progress of...  \n",
       "4  Tonight the American people deserve our thanks...  "
      ],
      "text/html": [
       "<div>\n",
       "<style scoped>\n",
       "    .dataframe tbody tr th:only-of-type {\n",
       "        vertical-align: middle;\n",
       "    }\n",
       "\n",
       "    .dataframe tbody tr th {\n",
       "        vertical-align: top;\n",
       "    }\n",
       "\n",
       "    .dataframe thead th {\n",
       "        text-align: right;\n",
       "    }\n",
       "</style>\n",
       "<table border=\"1\" class=\"dataframe\">\n",
       "  <thead>\n",
       "    <tr style=\"text-align: right;\">\n",
       "      <th></th>\n",
       "      <th>title</th>\n",
       "      <th>link</th>\n",
       "      <th>YEAR</th>\n",
       "      <th>PRESIDENT</th>\n",
       "      <th>newspaper</th>\n",
       "      <th>text</th>\n",
       "      <th>president</th>\n",
       "      <th>SOTU_id</th>\n",
       "      <th>SOTU</th>\n",
       "    </tr>\n",
       "  </thead>\n",
       "  <tbody>\n",
       "    <tr>\n",
       "      <th>0</th>\n",
       "      <td>Magnet for Democrats Speculation Focuses on Go...</td>\n",
       "      <td>https://www.proquest.com/latimes/docview/29225...</td>\n",
       "      <td>1986</td>\n",
       "      <td>Reagan</td>\n",
       "      <td>LA Times</td>\n",
       "      <td>He is perhaps the best orator in the Democrati...</td>\n",
       "      <td>Joseph R. Biden, Jr.</td>\n",
       "      <td>0</td>\n",
       "      <td>Mr. Speaker, Mr. President, distinguished Memb...</td>\n",
       "    </tr>\n",
       "    <tr>\n",
       "      <th>1</th>\n",
       "      <td>Magnet for Democrats Speculation Focuses on Go...</td>\n",
       "      <td>https://www.proquest.com/latimes/docview/29225...</td>\n",
       "      <td>1986</td>\n",
       "      <td>Reagan</td>\n",
       "      <td>LA Times</td>\n",
       "      <td>He is perhaps the best orator in the Democrati...</td>\n",
       "      <td>Joseph R. Biden, Jr.</td>\n",
       "      <td>0</td>\n",
       "      <td>Thank you for allowing me to delay my address ...</td>\n",
       "    </tr>\n",
       "    <tr>\n",
       "      <th>2</th>\n",
       "      <td>Magnet for Democrats Speculation Focuses on Go...</td>\n",
       "      <td>https://www.proquest.com/latimes/docview/29225...</td>\n",
       "      <td>1986</td>\n",
       "      <td>Reagan</td>\n",
       "      <td>LA Times</td>\n",
       "      <td>He is perhaps the best orator in the Democrati...</td>\n",
       "      <td>Joseph R. Biden, Jr.</td>\n",
       "      <td>0</td>\n",
       "      <td>Mr. Speaker, before I begin my prepared remark...</td>\n",
       "    </tr>\n",
       "    <tr>\n",
       "      <th>3</th>\n",
       "      <td>Magnet for Democrats Speculation Focuses on Go...</td>\n",
       "      <td>https://www.proquest.com/latimes/docview/29225...</td>\n",
       "      <td>1986</td>\n",
       "      <td>Reagan</td>\n",
       "      <td>LA Times</td>\n",
       "      <td>He is perhaps the best orator in the Democrati...</td>\n",
       "      <td>Joseph R. Biden, Jr.</td>\n",
       "      <td>0</td>\n",
       "      <td>I have come to review with you the progress of...</td>\n",
       "    </tr>\n",
       "    <tr>\n",
       "      <th>4</th>\n",
       "      <td>Magnet for Democrats Speculation Focuses on Go...</td>\n",
       "      <td>https://www.proquest.com/latimes/docview/29225...</td>\n",
       "      <td>1986</td>\n",
       "      <td>Reagan</td>\n",
       "      <td>LA Times</td>\n",
       "      <td>He is perhaps the best orator in the Democrati...</td>\n",
       "      <td>Joseph R. Biden, Jr.</td>\n",
       "      <td>0</td>\n",
       "      <td>Tonight the American people deserve our thanks...</td>\n",
       "    </tr>\n",
       "  </tbody>\n",
       "</table>\n",
       "</div>"
      ]
     },
     "execution_count": 31,
     "metadata": {},
     "output_type": "execute_result"
    }
   ],
   "execution_count": 31
  },
  {
   "metadata": {
    "ExecuteTime": {
     "end_time": "2024-12-04T05:04:42.297510Z",
     "start_time": "2024-12-04T05:04:41.921933Z"
    }
   },
   "cell_type": "code",
   "source": "df.isna().sum()",
   "id": "bd549be31c60fa24",
   "outputs": [
    {
     "data": {
      "text/plain": [
       "title        0\n",
       "link         0\n",
       "YEAR         0\n",
       "PRESIDENT    0\n",
       "newspaper    0\n",
       "text         0\n",
       "president    0\n",
       "SOTU_id      0\n",
       "SOTU         0\n",
       "dtype: int64"
      ]
     },
     "execution_count": 33,
     "metadata": {},
     "output_type": "execute_result"
    }
   ],
   "execution_count": 33
  },
  {
   "metadata": {
    "ExecuteTime": {
     "end_time": "2024-12-04T04:22:05.027401Z",
     "start_time": "2024-12-04T04:21:40.685658Z"
    }
   },
   "cell_type": "code",
   "source": "df.to_json(output_file, orient='records')",
   "id": "4dac2f56d744f2f9",
   "outputs": [],
   "execution_count": 32
  },
  {
   "metadata": {},
   "cell_type": "markdown",
   "source": "",
   "id": "72cc97284ba048b8"
  }
 ],
 "metadata": {
  "kernelspec": {
   "display_name": "Python 3",
   "language": "python",
   "name": "python3"
  },
  "language_info": {
   "codemirror_mode": {
    "name": "ipython",
    "version": 2
   },
   "file_extension": ".py",
   "mimetype": "text/x-python",
   "name": "python",
   "nbconvert_exporter": "python",
   "pygments_lexer": "ipython2",
   "version": "2.7.6"
  }
 },
 "nbformat": 4,
 "nbformat_minor": 5
}
