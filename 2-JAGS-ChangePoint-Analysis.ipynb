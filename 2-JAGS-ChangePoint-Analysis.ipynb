{
 "nbformat": 4,
 "nbformat_minor": 0,
 "metadata": {
  "colab": {
   "provenance": [],
   "collapsed_sections": [
    "Y87sVxZ5HlNP"
   ]
  },
  "kernelspec": {
   "name": "python3",
   "display_name": "Python 3"
  },
  "language_info": {
   "name": "python"
  }
 },
 "cells": [
  {
   "cell_type": "markdown",
   "source": [
    "#### Install Dependencies"
   ],
   "metadata": {
    "id": "Y87sVxZ5HlNP"
   }
  },
  {
   "cell_type": "code",
   "source": [
    "!sudo apt-get install jags\n",
    "!pip install pyjags"
   ],
   "metadata": {
    "id": "Ma_rM7YPHnjJ",
    "colab": {
     "base_uri": "https://localhost:8080/"
    },
    "outputId": "b0d5a54f-9a19-4f0d-a6ca-85d7da082132"
   },
   "outputs": [],
   "execution_count": null
  },
  {
   "metadata": {},
   "cell_type": "markdown",
   "source": [
    "# Bayesian Parameter Estimation for Factor Contributions\n",
    "\n",
    "The following is a simplified template for using JAGS for analyses"
   ]
  },
  {
   "metadata": {},
   "cell_type": "code",
   "source": [
    "import pandas as pd\n",
    "import numpy as np\n",
    "import pyjags\n",
    "import os"
   ],
   "outputs": [],
   "execution_count": null
  },
  {
   "metadata": {},
   "cell_type": "code",
   "source": [
    "DATA_PATH = 'content'\n",
    "INPUT_FILE = 'ceda-results.csv'"
   ],
   "outputs": [],
   "execution_count": null
  },
  {
   "cell_type": "markdown",
   "source": "### Read in data",
   "metadata": {
    "id": "Nre1FkrfHEvR"
   }
  },
  {
   "cell_type": "code",
   "metadata": {
    "id": "dSFjI45QGtSf",
    "colab": {
     "base_uri": "https://localhost:8080/",
     "height": 148
    },
    "outputId": "3391e3c9-1073-4cfc-8c22-bfc7facd26d8"
   },
   "source": "df = pd.read_csv(os.path.join(DATA_PATH,INPUT_FILE))",
   "outputs": [],
   "execution_count": null
  },
  {
   "metadata": {},
   "cell_type": "code",
   "outputs": [],
   "execution_count": null,
   "source": "# add any additional processing steps here"
  },
  {
   "metadata": {},
   "cell_type": "code",
   "outputs": [],
   "execution_count": null,
   "source": "df.head()"
  },
  {
   "cell_type": "markdown",
   "source": "## Model Definition",
   "metadata": {
    "id": "hTCPIM6yHG99"
   }
  },
  {
   "cell_type": "markdown",
   "source": [
    "### Temporal Change Point Model\n",
    "\n",
    "The following is an example JAGS Script for the purposes of identifying change points in convergence-entropy throughout the course of a conversation."
   ],
   "metadata": {
    "id": "xAy0cKrcHQE_"
   }
  },
  {
   "metadata": {},
   "cell_type": "code",
   "outputs": [],
   "execution_count": null,
   "source": [
    "model = \"\"\"\n",
    "model{\n",
    "    nxsigma ~ dunif(.001, 100)\n",
    "    nysigma ~ dunif(.001, 100)\n",
    "    \n",
    "    nxmu ~ dunif(-1000, 1000)\n",
    "    nymu ~ dunif(-1000, 1000)\n",
    "    \n",
    "    nx_beta ~ dnorm(nxmu, nxsigma)\n",
    "    ny_beta ~ dnorm(nymu, nysigma)\n",
    "    \n",
    "    phi ~ dunif(.001, 100)\n",
    "    \n",
    "    change_point[1] ~ dunif(0,.000001)\n",
    "    \n",
    "    for (i in 1:n_cat){\n",
    "        change_point[i+1] ~ dunif(ifelse(i>1, change_point[i], 0), t_max)\n",
    "        change_rate[i] ~ dnorm(0, .001)\n",
    "    }\n",
    "    \n",
    "    for (j in 1:ROWS){\n",
    "        \n",
    "        for (i in 1:n_cat){\n",
    "            theta[j,i] <- ifelse(time[j] >= change_point[i], change_rate[i], 0)\n",
    "        } \n",
    "        \n",
    "        mu_row[j] <- sum(theta[j,]) + (nx_beta * nx[j]) + (ny_beta * ny[j])\n",
    "        H[j] ~ dnorm(mu_row[j], phi)\n",
    "    }\n",
    "}\n",
    "\"\"\""
   ]
  },
  {
   "metadata": {},
   "cell_type": "markdown",
   "source": "Make sure that you include inputs for each variable that you are feeding to the model from the data, as indicated in the script you wrote."
  },
  {
   "cell_type": "code",
   "source": [
    "data = {\n",
    "    'nx': df['nx'].values,\n",
    "    'ny': df['ny'].values,\n",
    "    'time': df['time_delta'].values,\n",
    "    't_max': df['time_delta'].max(),\n",
    "    'n_cat': 10, # the maximum number of possible change points to search for\n",
    "    \n",
    "    'H': df['Hxy'].values,\n",
    "    # 'TEMP': 1,  # how far off from the correct value of H you are allowing the model to estimate.\n",
    "                #  higher values will increase model performance, but decrease model certainty\n",
    "                #  for any specific parameter values.\n",
    "    'ROWS': len(df)\n",
    "}"
   ],
   "metadata": {
    "id": "56bjp2nyHbPX"
   },
   "outputs": [],
   "execution_count": null
  },
  {
   "cell_type": "code",
   "source": [
    "n_samples = 3000\n",
    "chains = 1\n",
    "warm_up = 1000\n",
    "\n",
    "jags_model = pyjags.Model(\n",
    "    model,\n",
    "    data=data,\n",
    "    chains=chains,\n",
    "    adapt=warm_up, \n",
    "    progress_bar=True\n",
    ")\n",
    "\n",
    "samples = jags_model.sample(n_samples,vars=['change_rate', 'change_point', 'nx_beta', 'ny_beta'])"
   ],
   "metadata": {
    "id": "m5DlYhg2Hb8B",
    "colab": {
     "base_uri": "https://localhost:8080/"
    },
    "outputId": "1ef3091c-52ea-446c-f77f-f39000dbc414"
   },
   "outputs": [],
   "execution_count": null
  },
  {
   "metadata": {},
   "cell_type": "markdown",
   "source": "saving outputs"
  },
  {
   "metadata": {},
   "cell_type": "code",
   "outputs": [],
   "execution_count": null,
   "source": [
    "for param,vals in samples.items():\n",
    "    np.save(\n",
    "        os.path.join(DATA_PATH, param+'.npy'), \n",
    "        vals\n",
    "    )"
   ]
  }
 ]
}
