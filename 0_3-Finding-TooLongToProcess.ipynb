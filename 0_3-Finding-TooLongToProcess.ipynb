{
 "cells": [
  {
   "metadata": {},
   "cell_type": "markdown",
   "source": "# Extra Step: Identifying the news items just too long to crunch. (and splitting them up)",
   "id": "6bdac8bfbc3fb467"
  },
  {
   "metadata": {
    "ExecuteTime": {
     "end_time": "2024-12-04T15:28:57.292540Z",
     "start_time": "2024-12-04T15:28:56.823164Z"
    }
   },
   "cell_type": "code",
   "source": [
    "import pandas as pd\n",
    "import numpy as np\n",
    "import os"
   ],
   "id": "1bdc1bcb2993acf7",
   "outputs": [],
   "execution_count": 1
  },
  {
   "metadata": {
    "ExecuteTime": {
     "end_time": "2024-12-04T15:28:57.296918Z",
     "start_time": "2024-12-04T15:28:57.293792Z"
    }
   },
   "cell_type": "code",
   "source": "DATA_FILE = 'data/raw/merged.json'",
   "id": "a81d23b1edf57e8f",
   "outputs": [],
   "execution_count": 2
  },
  {
   "metadata": {
    "ExecuteTime": {
     "end_time": "2024-12-04T15:29:08.766247Z",
     "start_time": "2024-12-04T15:28:57.297667Z"
    }
   },
   "cell_type": "code",
   "source": "df = pd.read_json(DATA_FILE)",
   "id": "7906f6ceb2d84578",
   "outputs": [],
   "execution_count": 3
  },
  {
   "metadata": {
    "ExecuteTime": {
     "end_time": "2024-12-04T15:29:10.447802Z",
     "start_time": "2024-12-04T15:29:08.771531Z"
    }
   },
   "cell_type": "code",
   "source": "sel = df['text'].apply(lambda x: len(x.split('\\n')))",
   "id": "1336be59bf669c27",
   "outputs": [],
   "execution_count": 4
  },
  {
   "metadata": {
    "ExecuteTime": {
     "end_time": "2024-12-04T15:30:30.725653Z",
     "start_time": "2024-12-04T15:29:10.453318Z"
    }
   },
   "cell_type": "code",
   "source": "df.loc[sel < 200].to_json(DATA_FILE.replace('.json', '-shortened.json'), orient='records')",
   "id": "7c7a90215346dbe4",
   "outputs": [],
   "execution_count": 5
  },
  {
   "metadata": {},
   "cell_type": "code",
   "outputs": [],
   "execution_count": null,
   "source": "",
   "id": "491c7b00330e33f5"
  }
 ],
 "metadata": {
  "kernelspec": {
   "display_name": "Python 3",
   "language": "python",
   "name": "python3"
  },
  "language_info": {
   "codemirror_mode": {
    "name": "ipython",
    "version": 2
   },
   "file_extension": ".py",
   "mimetype": "text/x-python",
   "name": "python",
   "nbconvert_exporter": "python",
   "pygments_lexer": "ipython2",
   "version": "2.7.6"
  }
 },
 "nbformat": 4,
 "nbformat_minor": 5
}
